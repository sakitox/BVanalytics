{
 "cells": [
  {
   "cell_type": "code",
   "execution_count": 1,
   "id": "d68ffd11",
   "metadata": {},
   "outputs": [
    {
     "name": "stdout",
     "output_type": "stream",
     "text": [
      "Importing the dtw module. When using in academic works please cite:\n",
      "  T. Giorgino. Computing and Visualizing Dynamic Time Warping Alignments in R: The dtw Package.\n",
      "  J. Stat. Soft., doi:10.18637/jss.v031.i07.\n",
      "\n"
     ]
    }
   ],
   "source": [
    "import pandas as pd\n",
    "import numpy as np\n",
    "from causalimpact import CausalImpact\n",
    "import csv\n",
    "import sys\n",
    "from datetime import datetime\n",
    "import dtw\n",
    "from sklearn import preprocessing"
   ]
  },
  {
   "cell_type": "markdown",
   "id": "94412b8e",
   "metadata": {},
   "source": [
    "principal variables:\n",
    "intervention date in datetime\n",
    "date start in datetime\n",
    "date end in datetime\n",
    "metric in str\n",
    "test_and_control set in csv or xslx, \n",
    "dataset in csv or xslx,\n",
    "  optional:\n",
    "  alpha\n",
    "  events per season\n",
    "  number of seasons\n",
    "  backtest periods\n",
    "  standardize\n",
    "\n",
    "actions on fit():\n",
    "check column names\n",
    "check all dates are type datetime\n",
    "sort by date\n",
    "rename BestControl if found\n",
    "check for issues with page names\n",
    "append 'test' to page column\n",
    "merge\n",
    "pivot\n",
    "find partition 1 and 2\n",
    "drop date\n",
    "check column order, find and place 'test' column\n",
    "run causal impact with data imputed above\n",
    "    returns:\n",
    "    CausalImpact object"
   ]
  },
  {
   "cell_type": "code",
   "execution_count": 16,
   "id": "8836c9f4",
   "metadata": {},
   "outputs": [],
   "source": [
    "pdp = pd.read_excel('C:/Users/akiro/Documents/Adidas/USA/us_test_06_pdp_titles_categories/data/inputs/pdps.xlsx')"
   ]
  },
  {
   "cell_type": "code",
   "execution_count": 17,
   "id": "f3e7bc78",
   "metadata": {},
   "outputs": [],
   "source": [
    "data1 = pd.read_csv('C:/Users/akiro/Documents/Adidas/USA/us_test_06_pdp_titles_categories/data/inputs/us_2021_11.csv')\n",
    "data2 = pd.read_csv('C:/Users/akiro/Documents/Adidas/USA/us_test_06_pdp_titles_categories/data/inputs/bq-all.csv')\n",
    "data1 = data1.groupby(['date','page']).sum().reset_index()\n",
    "data1 = data1[['date', 'page', 'impressions']]\n",
    "data2 = data2[['date', 'page', 'impressions']]"
   ]
  },
  {
   "cell_type": "code",
   "execution_count": 18,
   "id": "1b481a77",
   "metadata": {},
   "outputs": [],
   "source": [
    "data = pd.concat([data1,data2], ignore_index=True).sort_values('date')"
   ]
  },
  {
   "cell_type": "code",
   "execution_count": 54,
   "id": "2ec869ee",
   "metadata": {},
   "outputs": [],
   "source": [
    "def fit(int_time, start, end, distances, \n",
    "        causal_input, alpha = 0.95, events_per_season = 1, \n",
    "        seasons = 1, btest = 0, standardize = False):\n",
    "    \n",
    "    distances = distances.append({'index':'TEST'}, ignore_index=True)\n",
    "    \n",
    "    pvt_longer = causal_input.merge(distances['index'], how='inner', on=['page']).drop_duplicates().sort_values('date').reset_index(drop=True)\n",
    "    \n",
    "    raw_ts = pvt_longer.pivot_table(index='date', columns='page', values='value', aggfunc='sum').reset_index()\n",
    "    \n",
    "    partition1 = raw_ts[raw_ts.date == '2021-11-12'].index.values.astype(int)[0]\n",
    "    \n",
    "    partition2 = raw_ts[raw_ts.date == '2021-11-24'].index.values.astype(int)[0]\n",
    "    \n",
    "    pre_period = [0,  partition1 - 1]\n",
    "    \n",
    "    post_period = [partition1, 324]\n",
    "    \n",
    "    final = raw_ts.[['value','page']]\n",
    "    \n",
    "    ci = CausalImpact(final, pre_period, post_period, alpha=0.05, model_args = {'nseasons': 14,'season_duration': 2})\n",
    "\n",
    "    print(ci.summary())\n",
    "\n",
    "    ci.plot()\n",
    "    \n",
    "    return  self"
   ]
  },
  {
   "cell_type": "code",
   "execution_count": null,
   "id": "d696bb82",
   "metadata": {},
   "outputs": [],
   "source": []
  },
  {
   "cell_type": "code",
   "execution_count": null,
   "id": "10de4bb6",
   "metadata": {},
   "outputs": [],
   "source": []
  },
  {
   "cell_type": "code",
   "execution_count": null,
   "id": "2ff598fb",
   "metadata": {},
   "outputs": [],
   "source": []
  },
  {
   "cell_type": "code",
   "execution_count": null,
   "id": "c788855d",
   "metadata": {},
   "outputs": [],
   "source": []
  },
  {
   "cell_type": "code",
   "execution_count": null,
   "id": "3d4163e3",
   "metadata": {},
   "outputs": [],
   "source": []
  },
  {
   "cell_type": "code",
   "execution_count": null,
   "id": "fd3db7b9",
   "metadata": {},
   "outputs": [],
   "source": []
  },
  {
   "cell_type": "code",
   "execution_count": null,
   "id": "51023949",
   "metadata": {},
   "outputs": [],
   "source": []
  },
  {
   "cell_type": "code",
   "execution_count": null,
   "id": "c43cddbf",
   "metadata": {},
   "outputs": [],
   "source": []
  },
  {
   "cell_type": "code",
   "execution_count": null,
   "id": "da1409d9",
   "metadata": {},
   "outputs": [],
   "source": []
  },
  {
   "cell_type": "code",
   "execution_count": null,
   "id": "9e22deba",
   "metadata": {},
   "outputs": [],
   "source": []
  },
  {
   "cell_type": "code",
   "execution_count": null,
   "id": "dde9d51f",
   "metadata": {},
   "outputs": [],
   "source": []
  }
 ],
 "metadata": {
  "kernelspec": {
   "display_name": "Python 3",
   "language": "python",
   "name": "python3"
  },
  "language_info": {
   "codemirror_mode": {
    "name": "ipython",
    "version": 3
   },
   "file_extension": ".py",
   "mimetype": "text/x-python",
   "name": "python",
   "nbconvert_exporter": "python",
   "pygments_lexer": "ipython3",
   "version": "3.8.8"
  }
 },
 "nbformat": 4,
 "nbformat_minor": 5
}
