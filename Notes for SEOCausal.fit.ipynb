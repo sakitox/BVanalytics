{
 "cells": [
  {
   "cell_type": "code",
   "execution_count": 1,
   "id": "d68ffd11",
   "metadata": {},
   "outputs": [
    {
     "name": "stdout",
     "output_type": "stream",
     "text": [
      "Importing the dtw module. When using in academic works please cite:\n",
      "  T. Giorgino. Computing and Visualizing Dynamic Time Warping Alignments in R: The dtw Package.\n",
      "  J. Stat. Soft., doi:10.18637/jss.v031.i07.\n",
      "\n"
     ]
    }
   ],
   "source": [
    "import pandas as pd\n",
    "import numpy as np\n",
    "from causalimpact import CausalImpact\n",
    "import csv\n",
    "import sys\n",
    "from datetime import datetime\n",
    "import dtw\n",
    "from sklearn import preprocessing"
   ]
  },
  {
   "cell_type": "markdown",
   "id": "94412b8e",
   "metadata": {},
   "source": [
    "principal variables:\n",
    "intervention date in datetime\n",
    "date start in datetime\n",
    "date end in datetime\n",
    "metric in str\n",
    "test_and_control set in csv or xslx, \n",
    "dataset in csv or xslx,\n",
    "  optional:\n",
    "  alpha\n",
    "  events per season\n",
    "  number of seasons\n",
    "  backtest periods\n",
    "  standardize\n",
    "\n",
    "actions on fit():\n",
    "check column names\n",
    "check all dates are type datetime\n",
    "sort by date\n",
    "rename BestControl if found\n",
    "check for issues with page names\n",
    "append 'test' to page column\n",
    "merge\n",
    "pivot\n",
    "find partition 1 and 2\n",
    "drop date\n",
    "check column order, find and place 'test' column\n",
    "run causal impact with data imputed above\n",
    "    returns:\n",
    "    CausalImpact object"
   ]
  },
  {
   "cell_type": "code",
   "execution_count": 16,
   "id": "8836c9f4",
   "metadata": {},
   "outputs": [],
   "source": [
    "pdp = pd.read_excel('C:/Users/akiro/Documents/Adidas/USA/us_test_06_pdp_titles_categories/data/inputs/pdps.xlsx')"
   ]
  },
  {
   "cell_type": "code",
   "execution_count": 17,
   "id": "f3e7bc78",
   "metadata": {},
   "outputs": [],
   "source": [
    "data1 = pd.read_csv('C:/Users/akiro/Documents/Adidas/USA/us_test_06_pdp_titles_categories/data/inputs/us_2021_11.csv')\n",
    "data2 = pd.read_csv('C:/Users/akiro/Documents/Adidas/USA/us_test_06_pdp_titles_categories/data/inputs/bq-all.csv')\n",
    "data1 = data1.groupby(['date','page']).sum().reset_index()\n",
    "data1 = data1[['date', 'page', 'impressions']]\n",
    "data2 = data2[['date', 'page', 'impressions']]"
   ]
  },
  {
   "cell_type": "code",
   "execution_count": 18,
   "id": "1b481a77",
   "metadata": {},
   "outputs": [],
   "source": [
    "data = pd.concat([data1,data2], ignore_index=True).sort_values('date')"
   ]
  },
  {
   "cell_type": "code",
   "execution_count": 54,
   "id": "2ec869ee",
   "metadata": {},
   "outputs": [],
   "source": [
    "def fit():\n",
    "\n",
    "    return  self"
   ]
  },
  {
   "cell_type": "code",
   "execution_count": null,
   "id": "6d012229",
   "metadata": {},
   "outputs": [],
   "source": []
  },
  {
   "cell_type": "code",
   "execution_count": null,
   "id": "fe18f628",
   "metadata": {},
   "outputs": [],
   "source": []
  },
  {
   "cell_type": "code",
   "execution_count": null,
   "id": "9682f7f9",
   "metadata": {},
   "outputs": [],
   "source": []
  },
  {
   "cell_type": "code",
   "execution_count": null,
   "id": "bd11b922",
   "metadata": {},
   "outputs": [],
   "source": []
  },
  {
   "cell_type": "code",
   "execution_count": null,
   "id": "bf027241",
   "metadata": {},
   "outputs": [],
   "source": []
  },
  {
   "cell_type": "code",
   "execution_count": null,
   "id": "796c7e87",
   "metadata": {},
   "outputs": [],
   "source": []
  },
  {
   "cell_type": "code",
   "execution_count": null,
   "id": "9eeecabd",
   "metadata": {},
   "outputs": [],
   "source": []
  },
  {
   "cell_type": "code",
   "execution_count": null,
   "id": "a759d928",
   "metadata": {},
   "outputs": [],
   "source": []
  },
  {
   "cell_type": "code",
   "execution_count": null,
   "id": "4045874a",
   "metadata": {},
   "outputs": [],
   "source": []
  },
  {
   "cell_type": "code",
   "execution_count": null,
   "id": "08c68f61",
   "metadata": {},
   "outputs": [],
   "source": []
  },
  {
   "cell_type": "code",
   "execution_count": null,
   "id": "fa7c5d3b",
   "metadata": {},
   "outputs": [],
   "source": []
  }
 ],
 "metadata": {
  "kernelspec": {
   "display_name": "Python 3",
   "language": "python",
   "name": "python3"
  },
  "language_info": {
   "codemirror_mode": {
    "name": "ipython",
    "version": 3
   },
   "file_extension": ".py",
   "mimetype": "text/x-python",
   "name": "python",
   "nbconvert_exporter": "python",
   "pygments_lexer": "ipython3",
   "version": "3.8.8"
  }
 },
 "nbformat": 4,
 "nbformat_minor": 5
}
